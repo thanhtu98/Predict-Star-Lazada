{
 "cells": [
  {
   "cell_type": "code",
   "execution_count": 3,
   "metadata": {},
   "outputs": [],
   "source": [
    "import os\n",
    "import collections\n",
    "import unicodedata\n",
    "import re"
   ]
  },
  {
   "cell_type": "code",
   "execution_count": 22,
   "metadata": {},
   "outputs": [],
   "source": [
    "def read_file(file_name):\n",
    "    with open(file_name, \"r\") as file_content:\n",
    "        data = file_content.read()\n",
    "    return data.split(\"\\n\")"
   ]
  },
  {
   "cell_type": "code",
   "execution_count": 18,
   "metadata": {},
   "outputs": [],
   "source": [
    "# def get_label_comment(sen):\n",
    "#     words = sen.split(\" \")\n",
    "#     label = words[0]\n",
    "#     comment = \"\".join(s + u\" \" for s in words[1:])\n",
    "#     return label, comment"
   ]
  },
  {
   "cell_type": "code",
   "execution_count": 23,
   "metadata": {},
   "outputs": [],
   "source": [
    "file_train = '../data/train.txt'\n",
    "file_valid = '../data/valid.txt'\n",
    "train_data = read_file(file_train)\n",
    "valid_data = read_file(file_valid)"
   ]
  },
  {
   "cell_type": "code",
   "execution_count": 21,
   "metadata": {},
   "outputs": [
    {
     "name": "stdout",
     "output_type": "stream",
     "text": [
      "﻿5\n",
      "túi rất đẹp  túi đẹp may kĩ và tiện lợi khi bên trong và bên ngoài đều có túi nhỏdây kéo lại đẹp nói chung là rất đáng tiền mua \r",
      " \n"
     ]
    }
   ],
   "source": [
    "label, comment = get_label_comment(train_data[0])"
   ]
  },
  {
   "cell_type": "code",
   "execution_count": null,
   "metadata": {},
   "outputs": [],
   "source": []
  }
 ],
 "metadata": {
  "kernelspec": {
   "display_name": "Python 2",
   "language": "python",
   "name": "python2"
  },
  "language_info": {
   "codemirror_mode": {
    "name": "ipython",
    "version": 2
   },
   "file_extension": ".py",
   "mimetype": "text/x-python",
   "name": "python",
   "nbconvert_exporter": "python",
   "pygments_lexer": "ipython2",
   "version": "2.7.12"
  }
 },
 "nbformat": 4,
 "nbformat_minor": 2
}
